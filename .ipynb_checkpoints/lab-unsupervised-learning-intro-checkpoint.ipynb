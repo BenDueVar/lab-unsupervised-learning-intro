{
 "cells": [
  {
   "cell_type": "code",
   "execution_count": 4,
   "id": "a7531f9e",
   "metadata": {},
   "outputs": [],
   "source": [
    "import spotipy\n",
    "from spotipy.oauth2 import SpotifyClientCredentials\n",
    "import pandas as pd\n",
    "pd.set_option('display.max_columns', None)"
   ]
  },
  {
   "cell_type": "code",
   "execution_count": 5,
   "id": "35f8a55f",
   "metadata": {},
   "outputs": [],
   "source": [
    "secrets_file = open(\"secret.txt\",\"r\")\n",
    "string = secrets_file.read()\n",
    "secrets_dict={}\n",
    "for line in string.split('\\n'):\n",
    "    if len(line) > 0:\n",
    "        #print(line.split(':'))\n",
    "        secrets_dict[line.split(':')[0]]=line.split(':')[1].strip()\n",
    "sp = spotipy.Spotify(auth_manager=SpotifyClientCredentials(client_id=secrets_dict['clientid'],\n",
    "                                                           client_secret=secrets_dict['clientsecret']))"
   ]
  },
  {
   "cell_type": "code",
   "execution_count": 6,
   "id": "199b1779",
   "metadata": {},
   "outputs": [],
   "source": [
    "play_list =[\"37i9dQZF1DWWEJlAGA9gs0\", \"37i9dQZF1DWVmps5U8gHNv\",\"37i9dQZF1DXd6tJtr4qeot\", \"37i9dQZF1DWWOaP4H0w5b0\", \"37i9dQZF1DXbITWG1ZJKYt\",\"37i9dQZF1DWUrPBdYfoJvz\", \"37i9dQZF1DX0ItcQfwbKZJ\", \"37i9dQZF1DX26DKvjp0s9M\", \"37i9dQZF1DX9GRpeH4CL0S\", \"37i9dQZF1DX1GT5IIzDqMe\", \"37i9dQZF1DXatFAWyNT5ad\",\"37i9dQZF1DX2L0iB23Enbq\",'37i9dQZEVXbNG2KDcFcKOF','37i9dQZF1DWWvhKV4FBciw','37i9dQZF1DWZBCPUIUs2iR','37i9dQZF1DWZeKCadgRdKQ','37i9dQZF1DX4UtSsGT1Sbe','37i9dQZF1DXbTxeAdrVG2l','37i9dQZF1DWWQRwui0ExPn','37i9dQZF1DX3Kdv0IChEm9','37i9dQZF1DXccH49bh52dB','37i9dQZF1DXbtYAdenGE9U','37i9dQZF1DX202yvKb0g9m','37i9dQZF1DX4mnAzYEyRVc']"
   ]
  },
  {
   "cell_type": "code",
   "execution_count": 7,
   "id": "fc878d8b",
   "metadata": {},
   "outputs": [],
   "source": [
    "from random import randint\n",
    "from time import sleep\n",
    "all_tracks = []\n",
    "for i in play_list:\n",
    "    results = sp.user_playlist_tracks(\"spotify\",i)\n",
    "    tracks = results['items']\n",
    "    while results['next']!=None:\n",
    "        results = sp.next(results) \n",
    "        tracks = tracks + results['items']\n",
    "        sleep(randint(1,3000)/1000) \n",
    "    all_tracks= all_tracks+tracks\n",
    "    "
   ]
  },
  {
   "cell_type": "code",
   "execution_count": 8,
   "id": "32bf0f47",
   "metadata": {},
   "outputs": [
    {
     "name": "stdout",
     "output_type": "stream",
     "text": [
      "(3256, 4)\n"
     ]
    }
   ],
   "source": [
    "from pandas import json_normalize\n",
    "df_alltracks=json_normalize(all_tracks)[['track.artists','track.id','track.name','track.popularity']]\n",
    "print(df_alltracks.shape)"
   ]
  },
  {
   "cell_type": "code",
   "execution_count": 9,
   "id": "a8b964bb",
   "metadata": {},
   "outputs": [
    {
     "data": {
      "text/plain": [
       "(4240, 9)"
      ]
     },
     "execution_count": 9,
     "metadata": {},
     "output_type": "execute_result"
    }
   ],
   "source": [
    "artists_df = pd.DataFrame(columns=['external_urls.spotify','href', 'id', 'name', 'type', 'uri','song_id', 'song_name', 'popularity' ])\n",
    "for i in df_alltracks.index:\n",
    "    artists_for_song = json_normalize(df_alltracks.iloc[i]['track.artists'])\n",
    "    artists_for_song['song_id']    = df_alltracks.iloc[i]['track.id']         \n",
    "    artists_for_song['song_name']  = df_alltracks.iloc[i]['track.name']       \n",
    "    artists_for_song['popularity'] = df_alltracks.iloc[i]['track.popularity'] \n",
    "    artists_df = pd.concat([artists_df, artists_for_song], axis=0)\n",
    "no_feature_df = artists_df.reset_index(drop=True)\n",
    "no_feature_df.shape"
   ]
  },
  {
   "cell_type": "code",
   "execution_count": 10,
   "id": "bb6d3a25",
   "metadata": {},
   "outputs": [
    {
     "data": {
      "text/html": [
       "<div>\n",
       "<style scoped>\n",
       "    .dataframe tbody tr th:only-of-type {\n",
       "        vertical-align: middle;\n",
       "    }\n",
       "\n",
       "    .dataframe tbody tr th {\n",
       "        vertical-align: top;\n",
       "    }\n",
       "\n",
       "    .dataframe thead th {\n",
       "        text-align: right;\n",
       "    }\n",
       "</style>\n",
       "<table border=\"1\" class=\"dataframe\">\n",
       "  <thead>\n",
       "    <tr style=\"text-align: right;\">\n",
       "      <th></th>\n",
       "      <th>external_urls.spotify</th>\n",
       "      <th>href</th>\n",
       "      <th>id</th>\n",
       "      <th>name</th>\n",
       "      <th>type</th>\n",
       "      <th>uri</th>\n",
       "      <th>song_id</th>\n",
       "      <th>song_name</th>\n",
       "      <th>popularity</th>\n",
       "    </tr>\n",
       "  </thead>\n",
       "  <tbody>\n",
       "    <tr>\n",
       "      <th>2622</th>\n",
       "      <td>https://open.spotify.com/artist/40Yq4vzPs9VNUr...</td>\n",
       "      <td>https://api.spotify.com/v1/artists/40Yq4vzPs9V...</td>\n",
       "      <td>40Yq4vzPs9VNUrIBG5Jr2i</td>\n",
       "      <td>The Smashing Pumpkins</td>\n",
       "      <td>artist</td>\n",
       "      <td>spotify:artist:40Yq4vzPs9VNUrIBG5Jr2i</td>\n",
       "      <td>5QLHGv0DfpeXLNFo7SFEy1</td>\n",
       "      <td>1979 - Remastered 2012</td>\n",
       "      <td>78</td>\n",
       "    </tr>\n",
       "    <tr>\n",
       "      <th>2455</th>\n",
       "      <td>https://open.spotify.com/artist/32vWCbZh0xZ4o9...</td>\n",
       "      <td>https://api.spotify.com/v1/artists/32vWCbZh0xZ...</td>\n",
       "      <td>32vWCbZh0xZ4o9gkz4PsEU</td>\n",
       "      <td>Dolly Parton</td>\n",
       "      <td>artist</td>\n",
       "      <td>spotify:artist:32vWCbZh0xZ4o9gkz4PsEU</td>\n",
       "      <td>4w3tQBXhn5345eUXDGBWZG</td>\n",
       "      <td>9 to 5</td>\n",
       "      <td>80</td>\n",
       "    </tr>\n",
       "    <tr>\n",
       "      <th>1983</th>\n",
       "      <td>https://open.spotify.com/artist/3y2cIKLjiOlp1N...</td>\n",
       "      <td>https://api.spotify.com/v1/artists/3y2cIKLjiOl...</td>\n",
       "      <td>3y2cIKLjiOlp1Np37WiUdH</td>\n",
       "      <td>Shaboozey</td>\n",
       "      <td>artist</td>\n",
       "      <td>spotify:artist:3y2cIKLjiOlp1Np37WiUdH</td>\n",
       "      <td>2FQrifJ1N335Ljm3TjTVVf</td>\n",
       "      <td>A Bar Song (Tipsy)</td>\n",
       "      <td>93</td>\n",
       "    </tr>\n",
       "    <tr>\n",
       "      <th>3776</th>\n",
       "      <td>https://open.spotify.com/artist/2TL8gYTNgD6nXk...</td>\n",
       "      <td>https://api.spotify.com/v1/artists/2TL8gYTNgD6...</td>\n",
       "      <td>2TL8gYTNgD6nXkyuUdDrMg</td>\n",
       "      <td>Jasmine Thompson</td>\n",
       "      <td>artist</td>\n",
       "      <td>spotify:artist:2TL8gYTNgD6nXkyuUdDrMg</td>\n",
       "      <td>3c8iiZGfEammKJuWTErE5x</td>\n",
       "      <td>Ain't Nobody (Loves Me Better) (feat. Jasmine ...</td>\n",
       "      <td>74</td>\n",
       "    </tr>\n",
       "    <tr>\n",
       "      <th>3775</th>\n",
       "      <td>https://open.spotify.com/artist/4bL2B6hmLlMWnU...</td>\n",
       "      <td>https://api.spotify.com/v1/artists/4bL2B6hmLlM...</td>\n",
       "      <td>4bL2B6hmLlMWnUEZnorEtG</td>\n",
       "      <td>Felix Jaehn</td>\n",
       "      <td>artist</td>\n",
       "      <td>spotify:artist:4bL2B6hmLlMWnUEZnorEtG</td>\n",
       "      <td>3c8iiZGfEammKJuWTErE5x</td>\n",
       "      <td>Ain't Nobody (Loves Me Better) (feat. Jasmine ...</td>\n",
       "      <td>74</td>\n",
       "    </tr>\n",
       "    <tr>\n",
       "      <th>...</th>\n",
       "      <td>...</td>\n",
       "      <td>...</td>\n",
       "      <td>...</td>\n",
       "      <td>...</td>\n",
       "      <td>...</td>\n",
       "      <td>...</td>\n",
       "      <td>...</td>\n",
       "      <td>...</td>\n",
       "      <td>...</td>\n",
       "    </tr>\n",
       "    <tr>\n",
       "      <th>2719</th>\n",
       "      <td>https://open.spotify.com/artist/5e4Dhzv426EvQe...</td>\n",
       "      <td>https://api.spotify.com/v1/artists/5e4Dhzv426E...</td>\n",
       "      <td>5e4Dhzv426EvQe3aDb64jL</td>\n",
       "      <td>Shania Twain</td>\n",
       "      <td>artist</td>\n",
       "      <td>spotify:artist:5e4Dhzv426EvQe3aDb64jL</td>\n",
       "      <td>1wb4P4F0sxAQ2KXrRvsx6n</td>\n",
       "      <td>You're Still The One</td>\n",
       "      <td>71</td>\n",
       "    </tr>\n",
       "    <tr>\n",
       "      <th>1990</th>\n",
       "      <td>https://open.spotify.com/artist/45dkTj5sMRSjrm...</td>\n",
       "      <td>https://api.spotify.com/v1/artists/45dkTj5sMRS...</td>\n",
       "      <td>45dkTj5sMRSjrmBSBeiHym</td>\n",
       "      <td>Tate McRae</td>\n",
       "      <td>artist</td>\n",
       "      <td>spotify:artist:45dkTj5sMRSjrmBSBeiHym</td>\n",
       "      <td>3rUGC1vUpkDG9CZFHMur1t</td>\n",
       "      <td>greedy</td>\n",
       "      <td>95</td>\n",
       "    </tr>\n",
       "    <tr>\n",
       "      <th>1975</th>\n",
       "      <td>https://open.spotify.com/artist/0PCCGZ0wGLizHt...</td>\n",
       "      <td>https://api.spotify.com/v1/artists/0PCCGZ0wGLi...</td>\n",
       "      <td>0PCCGZ0wGLizHt2KZ7hhA2</td>\n",
       "      <td>Artemas</td>\n",
       "      <td>artist</td>\n",
       "      <td>spotify:artist:0PCCGZ0wGLizHt2KZ7hhA2</td>\n",
       "      <td>2GxrNKugF82CnoRFbQfzPf</td>\n",
       "      <td>i like the way you kiss me</td>\n",
       "      <td>100</td>\n",
       "    </tr>\n",
       "    <tr>\n",
       "      <th>3767</th>\n",
       "      <td>https://open.spotify.com/artist/1lmU3giNF3CSbk...</td>\n",
       "      <td>https://api.spotify.com/v1/artists/1lmU3giNF3C...</td>\n",
       "      <td>1lmU3giNF3CSbkVSQmLpHQ</td>\n",
       "      <td>Surf Mesa</td>\n",
       "      <td>artist</td>\n",
       "      <td>spotify:artist:1lmU3giNF3CSbkVSQmLpHQ</td>\n",
       "      <td>62aP9fBQKYKxi7PDXwcUAS</td>\n",
       "      <td>ily (i love you baby) (feat. Emilee)</td>\n",
       "      <td>76</td>\n",
       "    </tr>\n",
       "    <tr>\n",
       "      <th>3768</th>\n",
       "      <td>https://open.spotify.com/artist/4ArPQ1Opcksbbf...</td>\n",
       "      <td>https://api.spotify.com/v1/artists/4ArPQ1Opcks...</td>\n",
       "      <td>4ArPQ1Opcksbbf3CPwEjWE</td>\n",
       "      <td>Emilee</td>\n",
       "      <td>artist</td>\n",
       "      <td>spotify:artist:4ArPQ1Opcksbbf3CPwEjWE</td>\n",
       "      <td>62aP9fBQKYKxi7PDXwcUAS</td>\n",
       "      <td>ily (i love you baby) (feat. Emilee)</td>\n",
       "      <td>76</td>\n",
       "    </tr>\n",
       "  </tbody>\n",
       "</table>\n",
       "<p>83 rows × 9 columns</p>\n",
       "</div>"
      ],
      "text/plain": [
       "                                  external_urls.spotify  \\\n",
       "2622  https://open.spotify.com/artist/40Yq4vzPs9VNUr...   \n",
       "2455  https://open.spotify.com/artist/32vWCbZh0xZ4o9...   \n",
       "1983  https://open.spotify.com/artist/3y2cIKLjiOlp1N...   \n",
       "3776  https://open.spotify.com/artist/2TL8gYTNgD6nXk...   \n",
       "3775  https://open.spotify.com/artist/4bL2B6hmLlMWnU...   \n",
       "...                                                 ...   \n",
       "2719  https://open.spotify.com/artist/5e4Dhzv426EvQe...   \n",
       "1990  https://open.spotify.com/artist/45dkTj5sMRSjrm...   \n",
       "1975  https://open.spotify.com/artist/0PCCGZ0wGLizHt...   \n",
       "3767  https://open.spotify.com/artist/1lmU3giNF3CSbk...   \n",
       "3768  https://open.spotify.com/artist/4ArPQ1Opcksbbf...   \n",
       "\n",
       "                                                   href  \\\n",
       "2622  https://api.spotify.com/v1/artists/40Yq4vzPs9V...   \n",
       "2455  https://api.spotify.com/v1/artists/32vWCbZh0xZ...   \n",
       "1983  https://api.spotify.com/v1/artists/3y2cIKLjiOl...   \n",
       "3776  https://api.spotify.com/v1/artists/2TL8gYTNgD6...   \n",
       "3775  https://api.spotify.com/v1/artists/4bL2B6hmLlM...   \n",
       "...                                                 ...   \n",
       "2719  https://api.spotify.com/v1/artists/5e4Dhzv426E...   \n",
       "1990  https://api.spotify.com/v1/artists/45dkTj5sMRS...   \n",
       "1975  https://api.spotify.com/v1/artists/0PCCGZ0wGLi...   \n",
       "3767  https://api.spotify.com/v1/artists/1lmU3giNF3C...   \n",
       "3768  https://api.spotify.com/v1/artists/4ArPQ1Opcks...   \n",
       "\n",
       "                          id                   name    type  \\\n",
       "2622  40Yq4vzPs9VNUrIBG5Jr2i  The Smashing Pumpkins  artist   \n",
       "2455  32vWCbZh0xZ4o9gkz4PsEU           Dolly Parton  artist   \n",
       "1983  3y2cIKLjiOlp1Np37WiUdH              Shaboozey  artist   \n",
       "3776  2TL8gYTNgD6nXkyuUdDrMg       Jasmine Thompson  artist   \n",
       "3775  4bL2B6hmLlMWnUEZnorEtG            Felix Jaehn  artist   \n",
       "...                      ...                    ...     ...   \n",
       "2719  5e4Dhzv426EvQe3aDb64jL           Shania Twain  artist   \n",
       "1990  45dkTj5sMRSjrmBSBeiHym             Tate McRae  artist   \n",
       "1975  0PCCGZ0wGLizHt2KZ7hhA2                Artemas  artist   \n",
       "3767  1lmU3giNF3CSbkVSQmLpHQ              Surf Mesa  artist   \n",
       "3768  4ArPQ1Opcksbbf3CPwEjWE                 Emilee  artist   \n",
       "\n",
       "                                        uri                 song_id  \\\n",
       "2622  spotify:artist:40Yq4vzPs9VNUrIBG5Jr2i  5QLHGv0DfpeXLNFo7SFEy1   \n",
       "2455  spotify:artist:32vWCbZh0xZ4o9gkz4PsEU  4w3tQBXhn5345eUXDGBWZG   \n",
       "1983  spotify:artist:3y2cIKLjiOlp1Np37WiUdH  2FQrifJ1N335Ljm3TjTVVf   \n",
       "3776  spotify:artist:2TL8gYTNgD6nXkyuUdDrMg  3c8iiZGfEammKJuWTErE5x   \n",
       "3775  spotify:artist:4bL2B6hmLlMWnUEZnorEtG  3c8iiZGfEammKJuWTErE5x   \n",
       "...                                     ...                     ...   \n",
       "2719  spotify:artist:5e4Dhzv426EvQe3aDb64jL  1wb4P4F0sxAQ2KXrRvsx6n   \n",
       "1990  spotify:artist:45dkTj5sMRSjrmBSBeiHym  3rUGC1vUpkDG9CZFHMur1t   \n",
       "1975  spotify:artist:0PCCGZ0wGLizHt2KZ7hhA2  2GxrNKugF82CnoRFbQfzPf   \n",
       "3767  spotify:artist:1lmU3giNF3CSbkVSQmLpHQ  62aP9fBQKYKxi7PDXwcUAS   \n",
       "3768  spotify:artist:4ArPQ1Opcksbbf3CPwEjWE  62aP9fBQKYKxi7PDXwcUAS   \n",
       "\n",
       "                                              song_name popularity  \n",
       "2622                             1979 - Remastered 2012         78  \n",
       "2455                                             9 to 5         80  \n",
       "1983                                 A Bar Song (Tipsy)         93  \n",
       "3776  Ain't Nobody (Loves Me Better) (feat. Jasmine ...         74  \n",
       "3775  Ain't Nobody (Loves Me Better) (feat. Jasmine ...         74  \n",
       "...                                                 ...        ...  \n",
       "2719                               You're Still The One         71  \n",
       "1990                                             greedy         95  \n",
       "1975                         i like the way you kiss me        100  \n",
       "3767               ily (i love you baby) (feat. Emilee)         76  \n",
       "3768               ily (i love you baby) (feat. Emilee)         76  \n",
       "\n",
       "[83 rows x 9 columns]"
      ]
     },
     "metadata": {},
     "output_type": "display_data"
    },
    {
     "data": {
      "text/plain": [
       "4157"
      ]
     },
     "execution_count": 10,
     "metadata": {},
     "output_type": "execute_result"
    }
   ],
   "source": [
    "# I want to check the method to delete repeated songs where all the elements in the row are perfectly repeated in another row\n",
    "\n",
    "duplicate_rows = no_feature_df[no_feature_df.duplicated()]\n",
    "display(duplicate_rows.sort_values(by='song_name'))\n",
    "4240-83"
   ]
  },
  {
   "cell_type": "code",
   "execution_count": 11,
   "id": "a7b09bca",
   "metadata": {},
   "outputs": [],
   "source": [
    "no_feature_df.drop_duplicates(inplace=True)"
   ]
  },
  {
   "cell_type": "code",
   "execution_count": 12,
   "id": "fc1f79a6",
   "metadata": {},
   "outputs": [
    {
     "data": {
      "text/plain": [
       "(4157, 9)"
      ]
     },
     "execution_count": 12,
     "metadata": {},
     "output_type": "execute_result"
    }
   ],
   "source": [
    "no_feature_df.shape"
   ]
  },
  {
   "cell_type": "code",
   "execution_count": 13,
   "id": "94104f50",
   "metadata": {},
   "outputs": [
    {
     "data": {
      "text/plain": [
       "external_urls.spotify    0\n",
       "href                     0\n",
       "id                       0\n",
       "name                     0\n",
       "type                     0\n",
       "uri                      0\n",
       "song_id                  0\n",
       "song_name                0\n",
       "popularity               0\n",
       "dtype: int64"
      ]
     },
     "execution_count": 13,
     "metadata": {},
     "output_type": "execute_result"
    }
   ],
   "source": [
    "no_feature_df.isnull().sum()"
   ]
  },
  {
   "cell_type": "code",
   "execution_count": 14,
   "id": "60e190bf",
   "metadata": {},
   "outputs": [],
   "source": [
    "chunks = [(i, i+100) for i in range(0, len(no_feature_df), 100)]\n",
    "chunks\n",
    "audio_features_list = []\n",
    "for chunk in chunks:\n",
    "    id_list100 = no_feature_df['song_id'][chunk[0]:chunk[1]]\n",
    "    audio_features_list = audio_features_list + sp.audio_features(id_list100)\n",
    "    sleep(randint(1,3000)/1000)"
   ]
  },
  {
   "cell_type": "code",
   "execution_count": 15,
   "id": "964f5e32",
   "metadata": {},
   "outputs": [],
   "source": [
    "features_df = json_normalize(audio_features_list)"
   ]
  },
  {
   "cell_type": "code",
   "execution_count": 16,
   "id": "0bead299",
   "metadata": {},
   "outputs": [],
   "source": [
    "features_df= features_df.reset_index(drop='first')"
   ]
  },
  {
   "cell_type": "code",
   "execution_count": 17,
   "id": "31a01c4f",
   "metadata": {},
   "outputs": [
    {
     "data": {
      "text/plain": [
       "(4157, 18)"
      ]
     },
     "execution_count": 17,
     "metadata": {},
     "output_type": "execute_result"
    }
   ],
   "source": [
    "features_df.shape"
   ]
  },
  {
   "cell_type": "code",
   "execution_count": 18,
   "id": "14f94076",
   "metadata": {},
   "outputs": [
    {
     "data": {
      "text/html": [
       "<div>\n",
       "<style scoped>\n",
       "    .dataframe tbody tr th:only-of-type {\n",
       "        vertical-align: middle;\n",
       "    }\n",
       "\n",
       "    .dataframe tbody tr th {\n",
       "        vertical-align: top;\n",
       "    }\n",
       "\n",
       "    .dataframe thead th {\n",
       "        text-align: right;\n",
       "    }\n",
       "</style>\n",
       "<table border=\"1\" class=\"dataframe\">\n",
       "  <thead>\n",
       "    <tr style=\"text-align: right;\">\n",
       "      <th></th>\n",
       "      <th>danceability</th>\n",
       "      <th>energy</th>\n",
       "      <th>key</th>\n",
       "      <th>loudness</th>\n",
       "      <th>mode</th>\n",
       "      <th>speechiness</th>\n",
       "      <th>acousticness</th>\n",
       "      <th>instrumentalness</th>\n",
       "      <th>liveness</th>\n",
       "      <th>valence</th>\n",
       "      <th>tempo</th>\n",
       "      <th>type</th>\n",
       "      <th>id</th>\n",
       "      <th>uri</th>\n",
       "      <th>track_href</th>\n",
       "      <th>analysis_url</th>\n",
       "      <th>duration_ms</th>\n",
       "      <th>time_signature</th>\n",
       "    </tr>\n",
       "  </thead>\n",
       "  <tbody>\n",
       "    <tr>\n",
       "      <th>2211</th>\n",
       "      <td>NaN</td>\n",
       "      <td>NaN</td>\n",
       "      <td>NaN</td>\n",
       "      <td>NaN</td>\n",
       "      <td>NaN</td>\n",
       "      <td>NaN</td>\n",
       "      <td>NaN</td>\n",
       "      <td>NaN</td>\n",
       "      <td>NaN</td>\n",
       "      <td>NaN</td>\n",
       "      <td>NaN</td>\n",
       "      <td>NaN</td>\n",
       "      <td>NaN</td>\n",
       "      <td>NaN</td>\n",
       "      <td>NaN</td>\n",
       "      <td>NaN</td>\n",
       "      <td>NaN</td>\n",
       "      <td>NaN</td>\n",
       "    </tr>\n",
       "    <tr>\n",
       "      <th>3104</th>\n",
       "      <td>NaN</td>\n",
       "      <td>NaN</td>\n",
       "      <td>NaN</td>\n",
       "      <td>NaN</td>\n",
       "      <td>NaN</td>\n",
       "      <td>NaN</td>\n",
       "      <td>NaN</td>\n",
       "      <td>NaN</td>\n",
       "      <td>NaN</td>\n",
       "      <td>NaN</td>\n",
       "      <td>NaN</td>\n",
       "      <td>NaN</td>\n",
       "      <td>NaN</td>\n",
       "      <td>NaN</td>\n",
       "      <td>NaN</td>\n",
       "      <td>NaN</td>\n",
       "      <td>NaN</td>\n",
       "      <td>NaN</td>\n",
       "    </tr>\n",
       "  </tbody>\n",
       "</table>\n",
       "</div>"
      ],
      "text/plain": [
       "      danceability  energy  key  loudness  mode  speechiness  acousticness  \\\n",
       "2211           NaN     NaN  NaN       NaN   NaN          NaN           NaN   \n",
       "3104           NaN     NaN  NaN       NaN   NaN          NaN           NaN   \n",
       "\n",
       "      instrumentalness  liveness  valence  tempo type   id  uri track_href  \\\n",
       "2211               NaN       NaN      NaN    NaN  NaN  NaN  NaN        NaN   \n",
       "3104               NaN       NaN      NaN    NaN  NaN  NaN  NaN        NaN   \n",
       "\n",
       "     analysis_url  duration_ms  time_signature  \n",
       "2211          NaN          NaN             NaN  \n",
       "3104          NaN          NaN             NaN  "
      ]
     },
     "execution_count": 18,
     "metadata": {},
     "output_type": "execute_result"
    }
   ],
   "source": [
    "features_df[features_df.isnull().any(axis=1)]\n"
   ]
  },
  {
   "cell_type": "code",
   "execution_count": 19,
   "id": "820d841d",
   "metadata": {},
   "outputs": [
    {
     "data": {
      "text/plain": [
       "(4155, 18)"
      ]
     },
     "execution_count": 19,
     "metadata": {},
     "output_type": "execute_result"
    }
   ],
   "source": [
    "# Because I'm having to rows of the song with features dataframe that are giving me null values (including the id) I will try to remove the same index from the songs without features dataframe, before chunking the features.\n",
    "features_df.drop([2211,3104], inplace=True)\n",
    "features_df.shape"
   ]
  },
  {
   "cell_type": "code",
   "execution_count": 20,
   "id": "ed354ebb",
   "metadata": {},
   "outputs": [],
   "source": [
    "num_features_df = features_df[['danceability', 'energy', 'key', 'loudness', 'mode', 'speechiness','acousticness', 'instrumentalness', 'liveness', 'valence', 'tempo','duration_ms','time_signature']]"
   ]
  },
  {
   "cell_type": "code",
   "execution_count": 25,
   "id": "e5edf7c0",
   "metadata": {},
   "outputs": [
    {
     "data": {
      "text/html": [
       "<div>\n",
       "<style scoped>\n",
       "    .dataframe tbody tr th:only-of-type {\n",
       "        vertical-align: middle;\n",
       "    }\n",
       "\n",
       "    .dataframe tbody tr th {\n",
       "        vertical-align: top;\n",
       "    }\n",
       "\n",
       "    .dataframe thead th {\n",
       "        text-align: right;\n",
       "    }\n",
       "</style>\n",
       "<table border=\"1\" class=\"dataframe\">\n",
       "  <thead>\n",
       "    <tr style=\"text-align: right;\">\n",
       "      <th></th>\n",
       "      <th>danceability</th>\n",
       "      <th>energy</th>\n",
       "      <th>key</th>\n",
       "      <th>loudness</th>\n",
       "      <th>mode</th>\n",
       "      <th>speechiness</th>\n",
       "      <th>acousticness</th>\n",
       "      <th>instrumentalness</th>\n",
       "      <th>liveness</th>\n",
       "      <th>valence</th>\n",
       "      <th>tempo</th>\n",
       "      <th>duration_ms</th>\n",
       "      <th>time_signature</th>\n",
       "    </tr>\n",
       "  </thead>\n",
       "  <tbody>\n",
       "    <tr>\n",
       "      <th>0</th>\n",
       "      <td>-1.382434</td>\n",
       "      <td>-1.060271</td>\n",
       "      <td>0.460436</td>\n",
       "      <td>-0.925156</td>\n",
       "      <td>0.824298</td>\n",
       "      <td>-0.120631</td>\n",
       "      <td>1.101329</td>\n",
       "      <td>1.052806</td>\n",
       "      <td>0.230330</td>\n",
       "      <td>-0.435860</td>\n",
       "      <td>-1.319175</td>\n",
       "      <td>-0.586708</td>\n",
       "      <td>0.247930</td>\n",
       "    </tr>\n",
       "    <tr>\n",
       "      <th>1</th>\n",
       "      <td>-1.382434</td>\n",
       "      <td>-1.060271</td>\n",
       "      <td>0.460436</td>\n",
       "      <td>-0.925156</td>\n",
       "      <td>0.824298</td>\n",
       "      <td>-0.120631</td>\n",
       "      <td>1.101329</td>\n",
       "      <td>1.052806</td>\n",
       "      <td>0.230330</td>\n",
       "      <td>-0.435860</td>\n",
       "      <td>-1.319175</td>\n",
       "      <td>-0.586708</td>\n",
       "      <td>0.247930</td>\n",
       "    </tr>\n",
       "    <tr>\n",
       "      <th>2</th>\n",
       "      <td>-1.588544</td>\n",
       "      <td>-1.162384</td>\n",
       "      <td>-1.483500</td>\n",
       "      <td>-1.848169</td>\n",
       "      <td>0.824298</td>\n",
       "      <td>-0.389743</td>\n",
       "      <td>1.359364</td>\n",
       "      <td>1.183176</td>\n",
       "      <td>-0.461145</td>\n",
       "      <td>-0.760504</td>\n",
       "      <td>0.578884</td>\n",
       "      <td>-0.667673</td>\n",
       "      <td>0.247930</td>\n",
       "    </tr>\n",
       "    <tr>\n",
       "      <th>3</th>\n",
       "      <td>-1.588544</td>\n",
       "      <td>-1.162384</td>\n",
       "      <td>-1.483500</td>\n",
       "      <td>-1.848169</td>\n",
       "      <td>0.824298</td>\n",
       "      <td>-0.389743</td>\n",
       "      <td>1.359364</td>\n",
       "      <td>1.183176</td>\n",
       "      <td>-0.461145</td>\n",
       "      <td>-0.760504</td>\n",
       "      <td>0.578884</td>\n",
       "      <td>-0.667673</td>\n",
       "      <td>0.247930</td>\n",
       "    </tr>\n",
       "    <tr>\n",
       "      <th>4</th>\n",
       "      <td>-1.312055</td>\n",
       "      <td>-1.476628</td>\n",
       "      <td>1.015846</td>\n",
       "      <td>-2.589759</td>\n",
       "      <td>-1.213154</td>\n",
       "      <td>-0.389743</td>\n",
       "      <td>1.354151</td>\n",
       "      <td>1.219389</td>\n",
       "      <td>-0.461145</td>\n",
       "      <td>-1.122040</td>\n",
       "      <td>0.316635</td>\n",
       "      <td>-0.213578</td>\n",
       "      <td>-2.067008</td>\n",
       "    </tr>\n",
       "  </tbody>\n",
       "</table>\n",
       "</div>"
      ],
      "text/plain": [
       "   danceability    energy       key  loudness      mode  speechiness  \\\n",
       "0     -1.382434 -1.060271  0.460436 -0.925156  0.824298    -0.120631   \n",
       "1     -1.382434 -1.060271  0.460436 -0.925156  0.824298    -0.120631   \n",
       "2     -1.588544 -1.162384 -1.483500 -1.848169  0.824298    -0.389743   \n",
       "3     -1.588544 -1.162384 -1.483500 -1.848169  0.824298    -0.389743   \n",
       "4     -1.312055 -1.476628  1.015846 -2.589759 -1.213154    -0.389743   \n",
       "\n",
       "   acousticness  instrumentalness  liveness   valence     tempo  duration_ms  \\\n",
       "0      1.101329          1.052806  0.230330 -0.435860 -1.319175    -0.586708   \n",
       "1      1.101329          1.052806  0.230330 -0.435860 -1.319175    -0.586708   \n",
       "2      1.359364          1.183176 -0.461145 -0.760504  0.578884    -0.667673   \n",
       "3      1.359364          1.183176 -0.461145 -0.760504  0.578884    -0.667673   \n",
       "4      1.354151          1.219389 -0.461145 -1.122040  0.316635    -0.213578   \n",
       "\n",
       "   time_signature  \n",
       "0        0.247930  \n",
       "1        0.247930  \n",
       "2        0.247930  \n",
       "3        0.247930  \n",
       "4       -2.067008  "
      ]
     },
     "execution_count": 25,
     "metadata": {},
     "output_type": "execute_result"
    }
   ],
   "source": [
    "from sklearn.preprocessing import StandardScaler\n",
    "X_prep = StandardScaler().fit_transform(num_features_df)\n",
    "pd.DataFrame(X_prep,columns=num_features_df.columns).head()"
   ]
  },
  {
   "cell_type": "code",
   "execution_count": 47,
   "id": "cfb350d8",
   "metadata": {},
   "outputs": [
    {
     "name": "stderr",
     "output_type": "stream",
     "text": [
      "C:\\Users\\benja\\anaconda3\\Lib\\site-packages\\sklearn\\cluster\\_kmeans.py:870: FutureWarning: The default value of `n_init` will change from 10 to 'auto' in 1.4. Set the value of `n_init` explicitly to suppress the warning\n",
      "  warnings.warn(\n"
     ]
    },
    {
     "data": {
      "text/html": [
       "<style>#sk-container-id-3 {color: black;background-color: white;}#sk-container-id-3 pre{padding: 0;}#sk-container-id-3 div.sk-toggleable {background-color: white;}#sk-container-id-3 label.sk-toggleable__label {cursor: pointer;display: block;width: 100%;margin-bottom: 0;padding: 0.3em;box-sizing: border-box;text-align: center;}#sk-container-id-3 label.sk-toggleable__label-arrow:before {content: \"▸\";float: left;margin-right: 0.25em;color: #696969;}#sk-container-id-3 label.sk-toggleable__label-arrow:hover:before {color: black;}#sk-container-id-3 div.sk-estimator:hover label.sk-toggleable__label-arrow:before {color: black;}#sk-container-id-3 div.sk-toggleable__content {max-height: 0;max-width: 0;overflow: hidden;text-align: left;background-color: #f0f8ff;}#sk-container-id-3 div.sk-toggleable__content pre {margin: 0.2em;color: black;border-radius: 0.25em;background-color: #f0f8ff;}#sk-container-id-3 input.sk-toggleable__control:checked~div.sk-toggleable__content {max-height: 200px;max-width: 100%;overflow: auto;}#sk-container-id-3 input.sk-toggleable__control:checked~label.sk-toggleable__label-arrow:before {content: \"▾\";}#sk-container-id-3 div.sk-estimator input.sk-toggleable__control:checked~label.sk-toggleable__label {background-color: #d4ebff;}#sk-container-id-3 div.sk-label input.sk-toggleable__control:checked~label.sk-toggleable__label {background-color: #d4ebff;}#sk-container-id-3 input.sk-hidden--visually {border: 0;clip: rect(1px 1px 1px 1px);clip: rect(1px, 1px, 1px, 1px);height: 1px;margin: -1px;overflow: hidden;padding: 0;position: absolute;width: 1px;}#sk-container-id-3 div.sk-estimator {font-family: monospace;background-color: #f0f8ff;border: 1px dotted black;border-radius: 0.25em;box-sizing: border-box;margin-bottom: 0.5em;}#sk-container-id-3 div.sk-estimator:hover {background-color: #d4ebff;}#sk-container-id-3 div.sk-parallel-item::after {content: \"\";width: 100%;border-bottom: 1px solid gray;flex-grow: 1;}#sk-container-id-3 div.sk-label:hover label.sk-toggleable__label {background-color: #d4ebff;}#sk-container-id-3 div.sk-serial::before {content: \"\";position: absolute;border-left: 1px solid gray;box-sizing: border-box;top: 0;bottom: 0;left: 50%;z-index: 0;}#sk-container-id-3 div.sk-serial {display: flex;flex-direction: column;align-items: center;background-color: white;padding-right: 0.2em;padding-left: 0.2em;position: relative;}#sk-container-id-3 div.sk-item {position: relative;z-index: 1;}#sk-container-id-3 div.sk-parallel {display: flex;align-items: stretch;justify-content: center;background-color: white;position: relative;}#sk-container-id-3 div.sk-item::before, #sk-container-id-3 div.sk-parallel-item::before {content: \"\";position: absolute;border-left: 1px solid gray;box-sizing: border-box;top: 0;bottom: 0;left: 50%;z-index: -1;}#sk-container-id-3 div.sk-parallel-item {display: flex;flex-direction: column;z-index: 1;position: relative;background-color: white;}#sk-container-id-3 div.sk-parallel-item:first-child::after {align-self: flex-end;width: 50%;}#sk-container-id-3 div.sk-parallel-item:last-child::after {align-self: flex-start;width: 50%;}#sk-container-id-3 div.sk-parallel-item:only-child::after {width: 0;}#sk-container-id-3 div.sk-dashed-wrapped {border: 1px dashed gray;margin: 0 0.4em 0.5em 0.4em;box-sizing: border-box;padding-bottom: 0.4em;background-color: white;}#sk-container-id-3 div.sk-label label {font-family: monospace;font-weight: bold;display: inline-block;line-height: 1.2em;}#sk-container-id-3 div.sk-label-container {text-align: center;}#sk-container-id-3 div.sk-container {/* jupyter's `normalize.less` sets `[hidden] { display: none; }` but bootstrap.min.css set `[hidden] { display: none !important; }` so we also need the `!important` here to be able to override the default hidden behavior on the sphinx rendered scikit-learn.org. See: https://github.com/scikit-learn/scikit-learn/issues/21755 */display: inline-block !important;position: relative;}#sk-container-id-3 div.sk-text-repr-fallback {display: none;}</style><div id=\"sk-container-id-3\" class=\"sk-top-container\"><div class=\"sk-text-repr-fallback\"><pre>KMeans(n_clusters=18, random_state=11)</pre><b>In a Jupyter environment, please rerun this cell to show the HTML representation or trust the notebook. <br />On GitHub, the HTML representation is unable to render, please try loading this page with nbviewer.org.</b></div><div class=\"sk-container\" hidden><div class=\"sk-item\"><div class=\"sk-estimator sk-toggleable\"><input class=\"sk-toggleable__control sk-hidden--visually\" id=\"sk-estimator-id-3\" type=\"checkbox\" checked><label for=\"sk-estimator-id-3\" class=\"sk-toggleable__label sk-toggleable__label-arrow\">KMeans</label><div class=\"sk-toggleable__content\"><pre>KMeans(n_clusters=18, random_state=11)</pre></div></div></div></div></div>"
      ],
      "text/plain": [
       "KMeans(n_clusters=18, random_state=11)"
      ]
     },
     "execution_count": 47,
     "metadata": {},
     "output_type": "execute_result"
    }
   ],
   "source": [
    "from sklearn.cluster import KMeans\n",
    "\n",
    "kmeans = KMeans(n_clusters=18, random_state=11)\n",
    "kmeans.fit(X_prep)"
   ]
  },
  {
   "cell_type": "code",
   "execution_count": 23,
   "id": "5bc24255",
   "metadata": {},
   "outputs": [
    {
     "name": "stderr",
     "output_type": "stream",
     "text": [
      "C:\\Users\\benja\\anaconda3\\Lib\\site-packages\\sklearn\\cluster\\_kmeans.py:870: FutureWarning: The default value of `n_init` will change from 10 to 'auto' in 1.4. Set the value of `n_init` explicitly to suppress the warning\n",
      "  warnings.warn(\n",
      "C:\\Users\\benja\\anaconda3\\Lib\\site-packages\\sklearn\\cluster\\_kmeans.py:870: FutureWarning: The default value of `n_init` will change from 10 to 'auto' in 1.4. Set the value of `n_init` explicitly to suppress the warning\n",
      "  warnings.warn(\n",
      "C:\\Users\\benja\\anaconda3\\Lib\\site-packages\\sklearn\\cluster\\_kmeans.py:870: FutureWarning: The default value of `n_init` will change from 10 to 'auto' in 1.4. Set the value of `n_init` explicitly to suppress the warning\n",
      "  warnings.warn(\n",
      "C:\\Users\\benja\\anaconda3\\Lib\\site-packages\\sklearn\\cluster\\_kmeans.py:870: FutureWarning: The default value of `n_init` will change from 10 to 'auto' in 1.4. Set the value of `n_init` explicitly to suppress the warning\n",
      "  warnings.warn(\n",
      "C:\\Users\\benja\\anaconda3\\Lib\\site-packages\\sklearn\\cluster\\_kmeans.py:870: FutureWarning: The default value of `n_init` will change from 10 to 'auto' in 1.4. Set the value of `n_init` explicitly to suppress the warning\n",
      "  warnings.warn(\n",
      "C:\\Users\\benja\\anaconda3\\Lib\\site-packages\\sklearn\\cluster\\_kmeans.py:870: FutureWarning: The default value of `n_init` will change from 10 to 'auto' in 1.4. Set the value of `n_init` explicitly to suppress the warning\n",
      "  warnings.warn(\n",
      "C:\\Users\\benja\\anaconda3\\Lib\\site-packages\\sklearn\\cluster\\_kmeans.py:870: FutureWarning: The default value of `n_init` will change from 10 to 'auto' in 1.4. Set the value of `n_init` explicitly to suppress the warning\n",
      "  warnings.warn(\n",
      "C:\\Users\\benja\\anaconda3\\Lib\\site-packages\\sklearn\\cluster\\_kmeans.py:870: FutureWarning: The default value of `n_init` will change from 10 to 'auto' in 1.4. Set the value of `n_init` explicitly to suppress the warning\n",
      "  warnings.warn(\n",
      "C:\\Users\\benja\\anaconda3\\Lib\\site-packages\\sklearn\\cluster\\_kmeans.py:870: FutureWarning: The default value of `n_init` will change from 10 to 'auto' in 1.4. Set the value of `n_init` explicitly to suppress the warning\n",
      "  warnings.warn(\n",
      "C:\\Users\\benja\\anaconda3\\Lib\\site-packages\\sklearn\\cluster\\_kmeans.py:870: FutureWarning: The default value of `n_init` will change from 10 to 'auto' in 1.4. Set the value of `n_init` explicitly to suppress the warning\n",
      "  warnings.warn(\n",
      "C:\\Users\\benja\\anaconda3\\Lib\\site-packages\\sklearn\\cluster\\_kmeans.py:870: FutureWarning: The default value of `n_init` will change from 10 to 'auto' in 1.4. Set the value of `n_init` explicitly to suppress the warning\n",
      "  warnings.warn(\n",
      "C:\\Users\\benja\\anaconda3\\Lib\\site-packages\\sklearn\\cluster\\_kmeans.py:870: FutureWarning: The default value of `n_init` will change from 10 to 'auto' in 1.4. Set the value of `n_init` explicitly to suppress the warning\n",
      "  warnings.warn(\n",
      "C:\\Users\\benja\\anaconda3\\Lib\\site-packages\\sklearn\\cluster\\_kmeans.py:870: FutureWarning: The default value of `n_init` will change from 10 to 'auto' in 1.4. Set the value of `n_init` explicitly to suppress the warning\n",
      "  warnings.warn(\n",
      "C:\\Users\\benja\\anaconda3\\Lib\\site-packages\\sklearn\\cluster\\_kmeans.py:870: FutureWarning: The default value of `n_init` will change from 10 to 'auto' in 1.4. Set the value of `n_init` explicitly to suppress the warning\n",
      "  warnings.warn(\n",
      "C:\\Users\\benja\\anaconda3\\Lib\\site-packages\\sklearn\\cluster\\_kmeans.py:870: FutureWarning: The default value of `n_init` will change from 10 to 'auto' in 1.4. Set the value of `n_init` explicitly to suppress the warning\n",
      "  warnings.warn(\n",
      "C:\\Users\\benja\\anaconda3\\Lib\\site-packages\\sklearn\\cluster\\_kmeans.py:870: FutureWarning: The default value of `n_init` will change from 10 to 'auto' in 1.4. Set the value of `n_init` explicitly to suppress the warning\n",
      "  warnings.warn(\n",
      "C:\\Users\\benja\\anaconda3\\Lib\\site-packages\\sklearn\\cluster\\_kmeans.py:870: FutureWarning: The default value of `n_init` will change from 10 to 'auto' in 1.4. Set the value of `n_init` explicitly to suppress the warning\n",
      "  warnings.warn(\n",
      "C:\\Users\\benja\\anaconda3\\Lib\\site-packages\\sklearn\\cluster\\_kmeans.py:870: FutureWarning: The default value of `n_init` will change from 10 to 'auto' in 1.4. Set the value of `n_init` explicitly to suppress the warning\n",
      "  warnings.warn(\n"
     ]
    },
    {
     "data": {
      "text/plain": [
       "Text(0.5, 1.0, 'Elbow Method showing the optimal k')"
      ]
     },
     "execution_count": 23,
     "metadata": {},
     "output_type": "execute_result"
    },
    {
     "data": {
      "image/png": "[encoded data removed]",
      "text/plain": [
       "<Figure size 1600x800 with 1 Axes>"
      ]
     },
     "metadata": {},
     "output_type": "display_data"
    }
   ],
   "source": [
    "# import numpy as np\n",
    "# K = range(2, 20)\n",
    "# inertia = []\n",
    "\n",
    "# for k in K:\n",
    "#     kmeans = KMeans(n_clusters=k,\n",
    "#                     random_state=1234)\n",
    "#     kmeans.fit(X_prep)\n",
    "#     inertia.append(kmeans.inertia_)\n",
    "\n",
    "# import matplotlib.pyplot as plt\n",
    "# %matplotlib inline\n",
    "\n",
    "# plt.figure(figsize=(16,8))\n",
    "# plt.plot(K, inertia, 'bx-')\n",
    "# plt.xlabel('k')\n",
    "# plt.ylabel('inertia')\n",
    "# plt.xticks(np.arange(min(K), max(K)+1, 1.0))\n",
    "# plt.title('Elbow Method showing the optimal k')\n",
    "\n",
    "#THE OPTIMAL IS THREE BUT THE SUGGESTION IS NOT ACCURATE WITH THREE CLUSTERS!"
   ]
  },
  {
   "cell_type": "code",
   "execution_count": 48,
   "id": "ceb63857",
   "metadata": {},
   "outputs": [],
   "source": [
    "features_df['cluster'] = kmeans.labels_"
   ]
  },
  {
   "cell_type": "code",
   "execution_count": 49,
   "id": "3378fc9f",
   "metadata": {},
   "outputs": [
    {
     "data": {
      "text/plain": [
       "array([ 3, 14, 11,  9, 17,  1,  2,  7,  8, 10, 15, 13,  0,  5,  4, 12,  6,\n",
       "       16])"
      ]
     },
     "execution_count": 49,
     "metadata": {},
     "output_type": "execute_result"
    }
   ],
   "source": [
    "features_df.cluster.unique()"
   ]
  },
  {
   "cell_type": "code",
   "execution_count": 50,
   "id": "21f2df14",
   "metadata": {},
   "outputs": [],
   "source": [
    "df_wft = pd.merge(left=no_feature_df,\n",
    "                        right=features_df,\n",
    "                        how='inner',\n",
    "                        left_on='song_id',\n",
    "                        right_on='id')"
   ]
  },
  {
   "cell_type": "code",
   "execution_count": 51,
   "id": "bd9fd5d0",
   "metadata": {},
   "outputs": [
    {
     "data": {
      "text/html": [
       "<div>\n",
       "<style scoped>\n",
       "    .dataframe tbody tr th:only-of-type {\n",
       "        vertical-align: middle;\n",
       "    }\n",
       "\n",
       "    .dataframe tbody tr th {\n",
       "        vertical-align: top;\n",
       "    }\n",
       "\n",
       "    .dataframe thead th {\n",
       "        text-align: right;\n",
       "    }\n",
       "</style>\n",
       "<table border=\"1\" class=\"dataframe\">\n",
       "  <thead>\n",
       "    <tr style=\"text-align: right;\">\n",
       "      <th></th>\n",
       "      <th>external_urls.spotify</th>\n",
       "      <th>href</th>\n",
       "      <th>id_x</th>\n",
       "      <th>name</th>\n",
       "      <th>type_x</th>\n",
       "      <th>uri_x</th>\n",
       "      <th>song_id</th>\n",
       "      <th>song_name</th>\n",
       "      <th>popularity</th>\n",
       "      <th>danceability</th>\n",
       "      <th>energy</th>\n",
       "      <th>key</th>\n",
       "      <th>loudness</th>\n",
       "      <th>mode</th>\n",
       "      <th>speechiness</th>\n",
       "      <th>acousticness</th>\n",
       "      <th>instrumentalness</th>\n",
       "      <th>liveness</th>\n",
       "      <th>valence</th>\n",
       "      <th>tempo</th>\n",
       "      <th>type_y</th>\n",
       "      <th>id_y</th>\n",
       "      <th>uri_y</th>\n",
       "      <th>track_href</th>\n",
       "      <th>analysis_url</th>\n",
       "      <th>duration_ms</th>\n",
       "      <th>time_signature</th>\n",
       "      <th>cluster</th>\n",
       "    </tr>\n",
       "  </thead>\n",
       "  <tbody>\n",
       "    <tr>\n",
       "      <th>0</th>\n",
       "      <td>https://open.spotify.com/artist/5aIqB5nVVvmFsv...</td>\n",
       "      <td>https://api.spotify.com/v1/artists/5aIqB5nVVvm...</td>\n",
       "      <td>5aIqB5nVVvmFsvSdExz408</td>\n",
       "      <td>Johann Sebastian Bach</td>\n",
       "      <td>artist</td>\n",
       "      <td>spotify:artist:5aIqB5nVVvmFsvSdExz408</td>\n",
       "      <td>17i5jLpzndlQhbS4SrTd0B</td>\n",
       "      <td>Cello Suite No. 1 in G Major, BWV 1007: I. Pré...</td>\n",
       "      <td>70</td>\n",
       "      <td>0.275</td>\n",
       "      <td>0.157</td>\n",
       "      <td>7.0</td>\n",
       "      <td>-18.752</td>\n",
       "      <td>1.0</td>\n",
       "      <td>0.0636</td>\n",
       "      <td>0.890</td>\n",
       "      <td>0.842</td>\n",
       "      <td>0.186</td>\n",
       "      <td>0.304</td>\n",
       "      <td>73.289</td>\n",
       "      <td>audio_features</td>\n",
       "      <td>17i5jLpzndlQhbS4SrTd0B</td>\n",
       "      <td>spotify:track:17i5jLpzndlQhbS4SrTd0B</td>\n",
       "      <td>https://api.spotify.com/v1/tracks/17i5jLpzndlQ...</td>\n",
       "      <td>https://api.spotify.com/v1/audio-analysis/17i5...</td>\n",
       "      <td>152280.0</td>\n",
       "      <td>4.0</td>\n",
       "      <td>3</td>\n",
       "    </tr>\n",
       "    <tr>\n",
       "      <th>1</th>\n",
       "      <td>https://open.spotify.com/artist/5aIqB5nVVvmFsv...</td>\n",
       "      <td>https://api.spotify.com/v1/artists/5aIqB5nVVvm...</td>\n",
       "      <td>5aIqB5nVVvmFsvSdExz408</td>\n",
       "      <td>Johann Sebastian Bach</td>\n",
       "      <td>artist</td>\n",
       "      <td>spotify:artist:5aIqB5nVVvmFsvSdExz408</td>\n",
       "      <td>17i5jLpzndlQhbS4SrTd0B</td>\n",
       "      <td>Cello Suite No. 1 in G Major, BWV 1007: I. Pré...</td>\n",
       "      <td>70</td>\n",
       "      <td>0.275</td>\n",
       "      <td>0.157</td>\n",
       "      <td>7.0</td>\n",
       "      <td>-18.752</td>\n",
       "      <td>1.0</td>\n",
       "      <td>0.0636</td>\n",
       "      <td>0.890</td>\n",
       "      <td>0.842</td>\n",
       "      <td>0.186</td>\n",
       "      <td>0.304</td>\n",
       "      <td>73.289</td>\n",
       "      <td>audio_features</td>\n",
       "      <td>17i5jLpzndlQhbS4SrTd0B</td>\n",
       "      <td>spotify:track:17i5jLpzndlQhbS4SrTd0B</td>\n",
       "      <td>https://api.spotify.com/v1/tracks/17i5jLpzndlQ...</td>\n",
       "      <td>https://api.spotify.com/v1/audio-analysis/17i5...</td>\n",
       "      <td>152280.0</td>\n",
       "      <td>4.0</td>\n",
       "      <td>3</td>\n",
       "    </tr>\n",
       "    <tr>\n",
       "      <th>2</th>\n",
       "      <td>https://open.spotify.com/artist/5Dl3HXZjG6ZOWT...</td>\n",
       "      <td>https://api.spotify.com/v1/artists/5Dl3HXZjG6Z...</td>\n",
       "      <td>5Dl3HXZjG6ZOWT5cV375lk</td>\n",
       "      <td>Yo-Yo Ma</td>\n",
       "      <td>artist</td>\n",
       "      <td>spotify:artist:5Dl3HXZjG6ZOWT5cV375lk</td>\n",
       "      <td>17i5jLpzndlQhbS4SrTd0B</td>\n",
       "      <td>Cello Suite No. 1 in G Major, BWV 1007: I. Pré...</td>\n",
       "      <td>70</td>\n",
       "      <td>0.275</td>\n",
       "      <td>0.157</td>\n",
       "      <td>7.0</td>\n",
       "      <td>-18.752</td>\n",
       "      <td>1.0</td>\n",
       "      <td>0.0636</td>\n",
       "      <td>0.890</td>\n",
       "      <td>0.842</td>\n",
       "      <td>0.186</td>\n",
       "      <td>0.304</td>\n",
       "      <td>73.289</td>\n",
       "      <td>audio_features</td>\n",
       "      <td>17i5jLpzndlQhbS4SrTd0B</td>\n",
       "      <td>spotify:track:17i5jLpzndlQhbS4SrTd0B</td>\n",
       "      <td>https://api.spotify.com/v1/tracks/17i5jLpzndlQ...</td>\n",
       "      <td>https://api.spotify.com/v1/audio-analysis/17i5...</td>\n",
       "      <td>152280.0</td>\n",
       "      <td>4.0</td>\n",
       "      <td>3</td>\n",
       "    </tr>\n",
       "    <tr>\n",
       "      <th>3</th>\n",
       "      <td>https://open.spotify.com/artist/5Dl3HXZjG6ZOWT...</td>\n",
       "      <td>https://api.spotify.com/v1/artists/5Dl3HXZjG6Z...</td>\n",
       "      <td>5Dl3HXZjG6ZOWT5cV375lk</td>\n",
       "      <td>Yo-Yo Ma</td>\n",
       "      <td>artist</td>\n",
       "      <td>spotify:artist:5Dl3HXZjG6ZOWT5cV375lk</td>\n",
       "      <td>17i5jLpzndlQhbS4SrTd0B</td>\n",
       "      <td>Cello Suite No. 1 in G Major, BWV 1007: I. Pré...</td>\n",
       "      <td>70</td>\n",
       "      <td>0.275</td>\n",
       "      <td>0.157</td>\n",
       "      <td>7.0</td>\n",
       "      <td>-18.752</td>\n",
       "      <td>1.0</td>\n",
       "      <td>0.0636</td>\n",
       "      <td>0.890</td>\n",
       "      <td>0.842</td>\n",
       "      <td>0.186</td>\n",
       "      <td>0.304</td>\n",
       "      <td>73.289</td>\n",
       "      <td>audio_features</td>\n",
       "      <td>17i5jLpzndlQhbS4SrTd0B</td>\n",
       "      <td>spotify:track:17i5jLpzndlQhbS4SrTd0B</td>\n",
       "      <td>https://api.spotify.com/v1/tracks/17i5jLpzndlQ...</td>\n",
       "      <td>https://api.spotify.com/v1/audio-analysis/17i5...</td>\n",
       "      <td>152280.0</td>\n",
       "      <td>4.0</td>\n",
       "      <td>3</td>\n",
       "    </tr>\n",
       "    <tr>\n",
       "      <th>4</th>\n",
       "      <td>https://open.spotify.com/artist/5aIqB5nVVvmFsv...</td>\n",
       "      <td>https://api.spotify.com/v1/artists/5aIqB5nVVvm...</td>\n",
       "      <td>5aIqB5nVVvmFsvSdExz408</td>\n",
       "      <td>Johann Sebastian Bach</td>\n",
       "      <td>artist</td>\n",
       "      <td>spotify:artist:5aIqB5nVVvmFsvSdExz408</td>\n",
       "      <td>4SFBV7SRNG2e2kyL1F6kjU</td>\n",
       "      <td>The Well-Tempered Clavier, Book 1, BWV 846-869...</td>\n",
       "      <td>62</td>\n",
       "      <td>0.234</td>\n",
       "      <td>0.126</td>\n",
       "      <td>0.0</td>\n",
       "      <td>-25.427</td>\n",
       "      <td>1.0</td>\n",
       "      <td>0.0446</td>\n",
       "      <td>0.989</td>\n",
       "      <td>0.896</td>\n",
       "      <td>0.102</td>\n",
       "      <td>0.216</td>\n",
       "      <td>133.998</td>\n",
       "      <td>audio_features</td>\n",
       "      <td>4SFBV7SRNG2e2kyL1F6kjU</td>\n",
       "      <td>spotify:track:4SFBV7SRNG2e2kyL1F6kjU</td>\n",
       "      <td>https://api.spotify.com/v1/tracks/4SFBV7SRNG2e...</td>\n",
       "      <td>https://api.spotify.com/v1/audio-analysis/4SFB...</td>\n",
       "      <td>139307.0</td>\n",
       "      <td>4.0</td>\n",
       "      <td>3</td>\n",
       "    </tr>\n",
       "  </tbody>\n",
       "</table>\n",
       "</div>"
      ],
      "text/plain": [
       "                               external_urls.spotify  \\\n",
       "0  https://open.spotify.com/artist/5aIqB5nVVvmFsv...   \n",
       "1  https://open.spotify.com/artist/5aIqB5nVVvmFsv...   \n",
       "2  https://open.spotify.com/artist/5Dl3HXZjG6ZOWT...   \n",
       "3  https://open.spotify.com/artist/5Dl3HXZjG6ZOWT...   \n",
       "4  https://open.spotify.com/artist/5aIqB5nVVvmFsv...   \n",
       "\n",
       "                                                href                    id_x  \\\n",
       "0  https://api.spotify.com/v1/artists/5aIqB5nVVvm...  5aIqB5nVVvmFsvSdExz408   \n",
       "1  https://api.spotify.com/v1/artists/5aIqB5nVVvm...  5aIqB5nVVvmFsvSdExz408   \n",
       "2  https://api.spotify.com/v1/artists/5Dl3HXZjG6Z...  5Dl3HXZjG6ZOWT5cV375lk   \n",
       "3  https://api.spotify.com/v1/artists/5Dl3HXZjG6Z...  5Dl3HXZjG6ZOWT5cV375lk   \n",
       "4  https://api.spotify.com/v1/artists/5aIqB5nVVvm...  5aIqB5nVVvmFsvSdExz408   \n",
       "\n",
       "                    name  type_x                                  uri_x  \\\n",
       "0  Johann Sebastian Bach  artist  spotify:artist:5aIqB5nVVvmFsvSdExz408   \n",
       "1  Johann Sebastian Bach  artist  spotify:artist:5aIqB5nVVvmFsvSdExz408   \n",
       "2               Yo-Yo Ma  artist  spotify:artist:5Dl3HXZjG6ZOWT5cV375lk   \n",
       "3               Yo-Yo Ma  artist  spotify:artist:5Dl3HXZjG6ZOWT5cV375lk   \n",
       "4  Johann Sebastian Bach  artist  spotify:artist:5aIqB5nVVvmFsvSdExz408   \n",
       "\n",
       "                  song_id                                          song_name  \\\n",
       "0  17i5jLpzndlQhbS4SrTd0B  Cello Suite No. 1 in G Major, BWV 1007: I. Pré...   \n",
       "1  17i5jLpzndlQhbS4SrTd0B  Cello Suite No. 1 in G Major, BWV 1007: I. Pré...   \n",
       "2  17i5jLpzndlQhbS4SrTd0B  Cello Suite No. 1 in G Major, BWV 1007: I. Pré...   \n",
       "3  17i5jLpzndlQhbS4SrTd0B  Cello Suite No. 1 in G Major, BWV 1007: I. Pré...   \n",
       "4  4SFBV7SRNG2e2kyL1F6kjU  The Well-Tempered Clavier, Book 1, BWV 846-869...   \n",
       "\n",
       "  popularity  danceability  energy  key  loudness  mode  speechiness  \\\n",
       "0         70         0.275   0.157  7.0   -18.752   1.0       0.0636   \n",
       "1         70         0.275   0.157  7.0   -18.752   1.0       0.0636   \n",
       "2         70         0.275   0.157  7.0   -18.752   1.0       0.0636   \n",
       "3         70         0.275   0.157  7.0   -18.752   1.0       0.0636   \n",
       "4         62         0.234   0.126  0.0   -25.427   1.0       0.0446   \n",
       "\n",
       "   acousticness  instrumentalness  liveness  valence    tempo          type_y  \\\n",
       "0         0.890             0.842     0.186    0.304   73.289  audio_features   \n",
       "1         0.890             0.842     0.186    0.304   73.289  audio_features   \n",
       "2         0.890             0.842     0.186    0.304   73.289  audio_features   \n",
       "3         0.890             0.842     0.186    0.304   73.289  audio_features   \n",
       "4         0.989             0.896     0.102    0.216  133.998  audio_features   \n",
       "\n",
       "                     id_y                                 uri_y  \\\n",
       "0  17i5jLpzndlQhbS4SrTd0B  spotify:track:17i5jLpzndlQhbS4SrTd0B   \n",
       "1  17i5jLpzndlQhbS4SrTd0B  spotify:track:17i5jLpzndlQhbS4SrTd0B   \n",
       "2  17i5jLpzndlQhbS4SrTd0B  spotify:track:17i5jLpzndlQhbS4SrTd0B   \n",
       "3  17i5jLpzndlQhbS4SrTd0B  spotify:track:17i5jLpzndlQhbS4SrTd0B   \n",
       "4  4SFBV7SRNG2e2kyL1F6kjU  spotify:track:4SFBV7SRNG2e2kyL1F6kjU   \n",
       "\n",
       "                                          track_href  \\\n",
       "0  https://api.spotify.com/v1/tracks/17i5jLpzndlQ...   \n",
       "1  https://api.spotify.com/v1/tracks/17i5jLpzndlQ...   \n",
       "2  https://api.spotify.com/v1/tracks/17i5jLpzndlQ...   \n",
       "3  https://api.spotify.com/v1/tracks/17i5jLpzndlQ...   \n",
       "4  https://api.spotify.com/v1/tracks/4SFBV7SRNG2e...   \n",
       "\n",
       "                                        analysis_url  duration_ms  \\\n",
       "0  https://api.spotify.com/v1/audio-analysis/17i5...     152280.0   \n",
       "1  https://api.spotify.com/v1/audio-analysis/17i5...     152280.0   \n",
       "2  https://api.spotify.com/v1/audio-analysis/17i5...     152280.0   \n",
       "3  https://api.spotify.com/v1/audio-analysis/17i5...     152280.0   \n",
       "4  https://api.spotify.com/v1/audio-analysis/4SFB...     139307.0   \n",
       "\n",
       "   time_signature  cluster  \n",
       "0             4.0        3  \n",
       "1             4.0        3  \n",
       "2             4.0        3  \n",
       "3             4.0        3  \n",
       "4             4.0        3  "
      ]
     },
     "execution_count": 51,
     "metadata": {},
     "output_type": "execute_result"
    }
   ],
   "source": [
    "df_wft.head()"
   ]
  },
  {
   "cell_type": "code",
   "execution_count": 52,
   "id": "c162c71e",
   "metadata": {},
   "outputs": [],
   "source": [
    "df_wft = df_wft.drop_duplicates()"
   ]
  },
  {
   "cell_type": "code",
   "execution_count": 53,
   "id": "d11d0d15",
   "metadata": {},
   "outputs": [
    {
     "name": "stdout",
     "output_type": "stream",
     "text": [
      "Requirement already satisfied: fuzzywuzzy in c:\\users\\benja\\anaconda3\\lib\\site-packages (0.18.0)\n"
     ]
    }
   ],
   "source": [
    "# !pip3 install fuzzywuzzy"
   ]
  },
  {
   "cell_type": "code",
   "execution_count": null,
   "id": "acc617d1",
   "metadata": {},
   "outputs": [],
   "source": [
    "from fuzzywuzzy import fuzz\n",
    "from fuzzywuzzy import process"
   ]
  },
  {
   "cell_type": "code",
   "execution_count": 69,
   "id": "353aae59",
   "metadata": {},
   "outputs": [
    {
     "name": "stdout",
     "output_type": "stream",
     "text": [
      "Enter a song title or artist name: Kendrick Lamar\n"
     ]
    },
    {
     "data": {
      "text/plain": [
       "'Matched Song: Freak On a Leash\\nMatched Artist: Korn'"
      ]
     },
     "execution_count": 69,
     "metadata": {},
     "output_type": "execute_result"
    }
   ],
   "source": [
    "def fuzzy_match(user_input):\n",
    "    cleaned_input = user_input.lower().strip()\n",
    "    song_match = process.extractOne(cleaned_input, df_wft['song_name'], scorer=fuzz.token_sort_ratio)\n",
    "    best_song_match = song_match[0]\n",
    "\n",
    "    artist_match = process.extractOne(cleaned_input, df_wft['name'], scorer=fuzz.token_sort_ratio)\n",
    "    best_artist_match = artist_match[0]\n",
    "\n",
    "    if song_match[1] >= 70:\n",
    "        # Filter songs based on the cluster number from the best song match\n",
    "        cluster_number = df_wft.loc[df_wft['song_name'] == best_song_match, 'cluster'].iloc[0]\n",
    "        matched_songs = df_wft[df_wft['cluster'] == cluster_number]\n",
    "    elif artist_match[1] >= 70:\n",
    "        # Filter songs based on the cluster number from the best artist match\n",
    "        cluster_number = df_wft.loc[df_wft['name'] == best_artist_match, 'cluster'].iloc[0]\n",
    "        matched_songs = df_wft[df_wft['cluster'] == cluster_number]\n",
    "    else:\n",
    "        return \"Try with another artist or song.\"\n",
    "\n",
    "    # Randomly select a song and its artist\n",
    "    random_row = matched_songs.sample(n=1)\n",
    "    matched_song_name = random_row['song_name'].iloc[0]\n",
    "    matched_artist_name = random_row['name'].iloc[0]\n",
    "\n",
    "    return f\"Matched Song: {matched_song_name}\\nMatched Artist: {matched_artist_name}\"\n",
    "\n",
    "user_input = input(\"Enter a song title or artist name: \")\n",
    "result = fuzzy_match(user_input)\n",
    "result"
   ]
  },
  {
   "cell_type": "code",
   "execution_count": 70,
   "id": "c93aa704",
   "metadata": {},
   "outputs": [
    {
     "name": "stdout",
     "output_type": "stream",
     "text": [
      "Enter a song title or artist name: Johann Sebastian Bach\n"
     ]
    },
    {
     "data": {
      "text/plain": [
       "'Matched Song: Serenade in B-Flat Major, K. 361 \"Gran Partita\": III. Adagio\\nMatched Artist: Wolfgang Amadeus Mozart'"
      ]
     },
     "execution_count": 70,
     "metadata": {},
     "output_type": "execute_result"
    }
   ],
   "source": [
    "user_input = input(\"Enter a song title or artist name: \")\n",
    "result = fuzzy_match(user_input)\n",
    "result"
   ]
  }
 ],
 "metadata": {
  "kernelspec": {
   "display_name": "Python 3 (ipykernel)",
   "language": "python",
   "name": "python3"
  },
  "language_info": {
   "codemirror_mode": {
    "name": "ipython",
    "version": 3
   },
   "file_extension": ".py",
   "mimetype": "text/x-python",
   "name": "python",
   "nbconvert_exporter": "python",
   "pygments_lexer": "ipython3",
   "version": "3.11.5"
  }
 },
 "nbformat": 4,
 "nbformat_minor": 5
}
